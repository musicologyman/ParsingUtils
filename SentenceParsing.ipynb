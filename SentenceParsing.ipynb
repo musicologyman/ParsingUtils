{
 "cells": [
  {
   "cell_type": "code",
   "execution_count": 126,
   "id": "controversial-accordance",
   "metadata": {
    "tags": []
   },
   "outputs": [],
   "source": [
    "import os\n",
    "from os.path import expanduser, join, isdir, basename\n",
    "from pprint import pprint\n",
    "import re\n",
    "import sys"
   ]
  },
  {
   "cell_type": "code",
   "execution_count": 131,
   "id": "exotic-bangkok",
   "metadata": {},
   "outputs": [],
   "source": [
    "def read_all_text(filename):\n",
    "    with open(filename) as fp:\n",
    "        return fp.read()\n",
    "    \n",
    "def read_all_lines(filename):\n",
    "    with open(filename) as fp:\n",
    "        return fp.readlines()\n",
    "    \n",
    "def print_with_indices(an_iterable):\n",
    "    for i, item in enumerate(an_iterable):\n",
    "        pprint(f\"{i:>4} {item}\", width=sys.maxsize)\n",
    "\n",
    "print_all_text = read_all_text ..> print_with_indices\n",
    "print_all_lines = read_all_lines ..> print_with_indices\n",
    "\n",
    "NEWLINE_RE = re.compile(r\"\\n+\")\n",
    "WORD_RE = re.compile(\"(\\w+|\\-)\")\n",
    "\n",
    "replace_newlines_with_space = NEWLINE_RE.sub$(\" \", ?)"
   ]
  },
  {
   "cell_type": "code",
   "execution_count": null,
   "id": "bronze-proceeding",
   "metadata": {
    "jupyter": {
     "source_hidden": true
    },
    "tags": []
   },
   "outputs": [],
   "source": [
    "TEMP_DIR = expanduser(\"~/temp\")\n",
    "\n",
    "sort_ci = sorted$(?, key=s -> s.lower())\n",
    "\n",
    "def listdircontents(directory) =\n",
    "    directory |> expanduser |> os.listdir\n",
    "\n",
    "def listfolders(directory) =\n",
    "    (directory \n",
    "     |> listdircontents \n",
    "     |> map$(join$(directory, ?))\n",
    "     |> filter$(isdir)\n",
    "     |> sort_ci)\n",
    "    \n",
    "(TEMP_DIR\n",
    " |> listfolders\n",
    " |> map$(basename)\n",
    " |> list\n",
    " |> pprint)"
   ]
  },
  {
   "cell_type": "code",
   "execution_count": null,
   "id": "inside-recommendation",
   "metadata": {
    "jupyter": {
     "source_hidden": true
    },
    "tags": []
   },
   "outputs": [],
   "source": [
    "\"~/temp/comparisons\" |> listdircontents "
   ]
  },
  {
   "cell_type": "code",
   "execution_count": null,
   "id": "unknown-scope",
   "metadata": {
    "jupyter": {
     "source_hidden": true
    },
    "tags": []
   },
   "outputs": [],
   "source": [
    "FILE1 = \"~/temp/comparisons/00725bf.tex\" |> expanduser\n",
    "FILE2 = \"~/temp/comparisons/7153e19.tex\" |> expanduser"
   ]
  },
  {
   "cell_type": "code",
   "execution_count": null,
   "id": "rural-syria",
   "metadata": {
    "jupyter": {
     "source_hidden": true
    },
    "tags": []
   },
   "outputs": [],
   "source": [
    "FILE1 |> print_all_lines\n",
    "FILE2 |> print_all_lines"
   ]
  },
  {
   "cell_type": "code",
   "execution_count": null,
   "id": "portable-passage",
   "metadata": {
    "jupyter": {
     "source_hidden": true
    },
    "tags": []
   },
   "outputs": [],
   "source": [
    "file1_lines = FILE1 |> read_all_lines\n",
    "slice1 = slice(83, 97)\n",
    "file1_to_compare = (file1_lines[slice1] |> map$(s -> s[:-1]) |> list |> \" \".join \n",
    "                    |> (s -> s.split()) |> enumerate)\n",
    "# file1_to_compare |> print\n",
    "\n",
    "file2_lines = FILE2 |> read_all_lines\n",
    "slice2 = slice(82, 96)\n",
    "file2_to_compare = (file2_lines[slice2] |> map$(s -> s[:-1]) |> list |> \" \".join \n",
    "                    |> (s -> s.split()) |> enumerate)\n",
    "# file2_to_compare |> print\n",
    "for (i1, w1),(i2, w2) in zip_longest(file1_to_compare[0:], file2_to_compare[0:], fillvalue=(\"\",\"\")):\n",
    "    print(f\"{i1:>5} {w1:<30} {i2:>5} {w2:<30}\")"
   ]
  },
  {
   "cell_type": "code",
   "execution_count": 276,
   "id": "fancy-separate",
   "metadata": {},
   "outputs": [
    {
     "name": "stdout",
     "output_type": "stream",
     "text": [
      "There are 912 words\n",
      "  Until a little over three decades ago, Richard Strauss occupied a  position on the margins of German- and English-language music  scholarship, a status at odds with Strauss's towering stature in the  quarter century leading up to the First World War. The English-language  situation started to change as scholars began to re-examine historical  narratives that had emerged with the advent of the European post-war  avant-garde. The best known of these stories had equated an increase in the  dissonance level of compositions with their historical and aesthetic  legitimacy. Strauss, who had continued steadfastly to compose in his  tonal, post-Wagnerian idiom until his death in 1949 --- the year after  Pierre Boulez completed his Piano Sonata No.~2 --- was a casualty of  these narratives. The German-language situation was complicated to a greater  degree that the English by Strauss's activities in service of the National  Socialist regime; combined with his adherence to compositional practices  associated more with the nineteenth century than the twentieth, the toxic  politics of the Third Reich rendered the composer something of a persona  non grata among Musikwissenschaftler.    Yet, as editors Morten Kristiansen and Joseph E. Jones write in the preface to  Richard~Strauss in Context, in the early 1990s, `Strauss scholarship  experience{[}d{]} something of a turn-of-the-millennium resurgence that has not  since abated.' Once recognized chiefly for his role in the prehistory of high  modernism (according to a common explanation), Strauss's life, works, and milieu  have become objects for serious academic inquiry in their own right. A~steady  stream of monographs and essay collections for major academic presses as well as  the publication of a new critical edition of the complete works attest to the  composer's growing prominence within the discipline of musicology. As we shall  see, in the midst of this renewed interest in Strauss, high modernism  nevertheless continues to loom in the background like a disciplinary superego  against which some scholars believe it necessary to do battle.    This volume belongs to the Cambridge University Press series Composers in  Context, the aim of which, as Kristiansen and Jones characterise it, is to  `invert the relationship between between composers and context' resulting in an  outside-in view of the composer, that is, an examination of the geographical,  cultural, intellectual, historical, and psychological factors that made  composers and their works what they have become for present-day performers,  listeners, and commentators. This has the potential to be a fruitful approach,  especially in a period in which we view composers no longer as heroic  individuals but as objects of the formation by factors --- unconscious, social,  political, and economic --- over which they had little control.     In order, then, to capture and organize this wide range of contexts, the editors  have divided the book, which comprises thirty-six essays, into six sections  covering distinct areas of inquiry into the composer: the people in  his personal and professional lives and his advocates, both while Strauss was  alive and posthumously (`Family, Friends, and Collaborators'); the places where  he lived and worked (`Career Stations'); his intellectual influences and  professional activities away from the podium (`Cultural Engagement and Musical  Life'); his activities as composer and conductor as well as the place of his  music in the culture of the day (`Professional and Musical Contexts'); Strauss's  position in music-historical discourse (`In History'); and primary sources,  editions, and the composer's effects on subsequent artists (`Artifacts and  Legacy'). Occasionally, the connections among the essays in a given section  appear tenuous; a section title sometimes provides only nominal guidance  regarding the theme its individual chapters.     One gains a sense of the scope of renewed scholarly interest in Strauss not only  from the individual essays in this volume but also, and more immediately, in  essays that survey older and recent editions of his music. These include the  ongoing Kritsche Gesamtausgabe der Werke von Richard Strauss (Andreas  Pernpeitner and Stefan Schenk); the availability and quality of published  volumes of correspondence and a bird's eye view of the large quantity of  unpublished letters (Claudia Heine and Adrian Keck); and the directions of  recent scholarship as well as some of the major questions awaiting more research  (Matthew Werley).    In the opening opening chapter, `Family and Upbringing,' Chris Walton lays out  some of the themes that recur throughout Strauss's career and this volume.  Walton identifies one of the experiences that distinguished the composer from  his contemporaries: instead of growing up in the conservatory system, Strauss  received his education in the humanistic Gymnasium. There he acquired the  deep familiarity with ancient Greece that was to inform much of his work into  his later years. Walton also introduces Franz Strauss, whose influence on the  young composer is well known. Less well known, however, is Franz's violent side;  Walton speculates that this aspect of his character led to the mental breakdown  of Strauss's mother, Josepha, whose own behavior may have influenced the  composer's depictions of the female principals in Salome and  Elektra.    Because Strauss was notoriously guarded about his private life, notwithstanding  the stylized depictions he provided in works like Ein Heldenleben,  Symphonia domestica, and Intermezzo. As Katharina Hottmann notes  in her essay on the composer's wife, Pauline de Ahna, we have little information  to construct a fuller picture of her than what we encounter in Strauss's own  depictions.     We meet the next two father figures, Hans von Bülow and Alexander Ritter, in  David Larkin's essay `Formative Influences.' In all three cases, Strauss's path  led from faithful aesthetic disciple to musically and aesthetically progressive  rebel. Yet we learn little more about the composer's private life.   \n"
     ]
    }
   ],
   "source": [
    "FILEPATH = \"~/Repos/music-and-letters/strauss-in-context-review.tex\" \n",
    "TEX_RE = re.compile(r\"\\\\\\w+{(?P<content>.+?)}\")\n",
    "WORD_RE = re.compile(r\"\\b(\\w+-\\w+\\b|\\b\\w+|\\b\\d+\\b)('s)?\\b\")\n",
    "\n",
    "text = (FILEPATH \n",
    "         |> expanduser\n",
    "         |> read_all_lines\n",
    "         |> enumerate$(?, start=1)\n",
    "         |> dropwhile$(t -> t[0] < 40)\n",
    "         |> takewhile$(t -> t[1].strip() != \"\\\\end{document}\")\n",
    "         |> map$(t -> t[1])\n",
    "         |> list\n",
    "         |> \" \".join\n",
    "         |> replace_newlines_with_space\n",
    "         |> TEX_RE.sub$(r\"\\1\", ?))\n",
    "\n",
    "    \n",
    "words = text |> WORD_RE.finditer |> map$(m -> m[1]) |> list\n",
    "\n",
    "print(f\"There are {len(words)} words\")\n"
   ]
  },
  {
   "cell_type": "code",
   "execution_count": 171,
   "id": "emotional-consciousness",
   "metadata": {},
   "outputs": [
    {
     "name": "stdout",
     "output_type": "stream",
     "text": [
      "[0, 1, 2, 3, 4, 5]\n"
     ]
    }
   ],
   "source": [
    "range(10) |> takewhile$(i -> i != 6) |> list |"
   ]
  },
  {
   "cell_type": "code",
   "execution_count": 244,
   "id": "usual-madonna",
   "metadata": {},
   "outputs": [
    {
     "name": "stdout",
     "output_type": "stream",
     "text": [
      "\\\\\\w+{(?P<content>.+?)}\n",
      "['dog', 'cat']\n",
      "this is a dog and this is a wolf and this is a cat.\n"
     ]
    }
   ],
   "source": [
    "TEST_STRING = \"this is a \\\\emph{dog} and this is a wolf and this is a \\\\emph{cat}.\"\n",
    "PATTERN_STRING = r\"\\\\\\w+{(?P<content>.+?)}\"\n",
    "\n",
    "PATTERN_STRING |> print\n",
    "\n",
    "(re.finditer(PATTERN_STRING, TEST_STRING) \n",
    " |> map$(m -> m[\"content\"]) \n",
    " |> list \n",
    " |> print)\n",
    "\n",
    "TEX_RE = re.compile(r\"\\\\\\w+{(?P<content>.+?)}\")\n",
    "TEX_RE.sub(m -> m[1], TEST_STRING) |> print"
   ]
  },
  {
   "cell_type": "code",
   "execution_count": 203,
   "id": "governing-witness",
   "metadata": {},
   "outputs": [
    {
     "data": {
      "text/plain": [
       "'This is parenthetical content'"
      ]
     },
     "execution_count": 203,
     "metadata": {},
     "output_type": "execute_result"
    }
   ],
   "source": [
    "re.sub(r\"\\((.+?)\\)\", m -> m[1], \"(This) is (parenthetical) content\")"
   ]
  },
  {
   "cell_type": "code",
   "execution_count": 242,
   "id": "renewable-rescue",
   "metadata": {},
   "outputs": [
    {
     "data": {
      "text/plain": [
       "['cat', 'dog']"
      ]
     },
     "execution_count": 242,
     "metadata": {},
     "output_type": "execute_result"
    }
   ],
   "source": [
    "re.findall(r\"\\\\\\w+{(?P<content>.+?)}\", \"\\emph{cat} and \\emph{dog}\")"
   ]
  },
  {
   "cell_type": "code",
   "execution_count": null,
   "id": "descending-simulation",
   "metadata": {},
   "outputs": [],
   "source": []
  }
 ],
 "metadata": {
  "kernelspec": {
   "display_name": "Coconut",
   "language": "coconut",
   "name": "coconut"
  },
  "language_info": {
   "codemirror_mode": {
    "name": "python",
    "version": 3
   },
   "file_extension": ".coco",
   "mimetype": "text/x-python3",
   "name": "coconut",
   "pygments_lexer": "coconut",
   "version": "1.5.0"
  }
 },
 "nbformat": 4,
 "nbformat_minor": 5
}
