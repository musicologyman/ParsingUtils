{
 "cells": [
  {
   "cell_type": "code",
   "execution_count": null,
   "id": "accredited-vertical",
   "metadata": {},
   "outputs": [],
   "source": [
    "import csv\n",
    "import os\n",
    "import regex as re\n",
    "\n",
    "from collections import namedtuple\n",
    "from pprint import pprint\n"
   ]
  },
  {
   "cell_type": "code",
   "execution_count": null,
   "id": "present-supervisor",
   "metadata": {},
   "outputs": [],
   "source": [
    "def resolve_filename(filename):\n",
    "    if filename.startswith(\"~\"):\n",
    "        return os.path.expanduser(filename)\n",
    "    else:\n",
    "        return filename\n",
    "    \n",
    "def with_resolution(function):\n",
    "    def resolution_function(filename, *args, **kwargs):\n",
    "        resolved_name = resolve_filename(filename)\n",
    "        return function(resolved_name, *args, **kwargs)\n",
    "    return resolution_function\n",
    "\n",
    "def get_real_path(filename):\n",
    "    return os.path.realpath(filename)\n",
    "\n",
    "def with_real_path(function):\n",
    "    def wrapped_function(filename, *args, **kwargs):\n",
    "        real_path = os.path.realpath(filename)\n",
    "        return function(real_path, *args, **kwargs)\n",
    "    return wrapped_function\n",
    "\n",
    "# def resolve_link(filename):\n",
    "#     if os.path.islink(filename):\n",
    "#         return os.readlink(filename)\n",
    "#     else:\n",
    "#         return filename\n",
    "\n",
    "@with_resolution\n",
    "def read_all_lines(filename, delete_trailing_carriage_returns=True):\n",
    "    with open(filename, mode=\"rt\") as fp:\n",
    "        if delete_trailing_carriage_returns:\n",
    "            return [line[:-1] for line in  fp.readlines()]\n",
    "        else:\n",
    "            return fp.readlines()\n",
    "        \n",
    "def remove_empty_and_whitespace_lines(lines):\n",
    "    return [line for line in lines if len(line.strip()) > 0]\n",
    "\n",
    "def write_csv(filename, fieldnames, rows):\n",
    "    with open(filename, mode=\"w\", newline=\"\") as fp:\n",
    "        writer = csv.DictWriter(fp, fieldnames)\n",
    "        writer.writeheader()\n",
    "        writer.writerows(rows)\n",
    "        \n",
    "@with_resolution\n",
    "def change_ext(filename, new_ext):\n",
    "    filename_wo_ext, _ = os.path.splitext(filename)\n",
    "    if new_ext[0] == \".\":\n",
    "        return f\"{filename_wo_ext}{new_ext}\"\n",
    "    else:\n",
    "        return f\"{filename_wo_ext}.{new_ext}\"\n",
    "\n",
    "def list_files(directory=\".\", filter=lambda f:f):\n",
    "    for f in sorted(os.listdir(directory), key=lambda s : s.lower()):\n",
    "        if os.path.isfile(f) and filter(f):\n",
    "            print(f)"
   ]
  },
  {
   "cell_type": "code",
   "execution_count": null,
   "id": "velvet-working",
   "metadata": {},
   "outputs": [],
   "source": [
    "write_csv(change_ext(TO_BE_PARSED, \"csv\"), ParsedFile._fields, [row._asdict() for row in rows])"
   ]
  },
  {
   "cell_type": "code",
   "execution_count": null,
   "id": "intensive-prototype",
   "metadata": {
    "tags": []
   },
   "outputs": [],
   "source": [
    "def is_icloud_file(filename):\n",
    "    return filename.startswith(\".\") and filename.endswith(\".icloud\")\n",
    "\n",
    "def get_name_for_icloud_file(filename):\n",
    "    return filename[1:-7]\n",
    "\n",
    "def to_lower(s):\n",
    "    return s.lower()\n",
    "\n",
    "def sort_ci(string_list):\n",
    "    return sorted(string_list, sort=to_lower)\n",
    "\n",
    "@with_real_path\n",
    "def get_files(folder):\n",
    "    return [f for f in os.listdir(folder) if os.path.isfile(os.path.join(folder, f))]\n",
    "\n",
    "\n",
    "files = get_files(os.path.realpath(os.path.expanduser(\"~/Downloads\")))\n",
    "# files = [f for f in os.listdir(os.readlink(os.path.expanduser(\"~/Downloads\"))) if os.path.isfile(f)]\n",
    "icloud_files = sorted([get_name_for_icloud_file(f) for f in files if is_icloud_file(f)])\n",
    "#icloud_files = [get_name_for_icloud_file(f) for f in files if f.startswith(\".\") and f.endswith(\".icloud\")]\n",
    "local_files = sorted([f for f in files if not is_icloud_file(f)])\n",
    "\n",
    "#pprint(icloud_files)\n",
    "#pprint(local_files)\n",
    "pprint([f for f in icloud_files if os.path.splitext(f)[1].lower() in [\".pdf\", \".mobi\", \".epub\"]])"
   ]
  },
  {
   "cell_type": "code",
   "execution_count": null,
   "id": "rental-large",
   "metadata": {},
   "outputs": [],
   "source": [
    "os.path.realpath(os.path.expanduser(\"~/Downloads\"))"
   ]
  },
  {
   "cell_type": "code",
   "execution_count": null,
   "id": "chief-salem",
   "metadata": {},
   "outputs": [],
   "source": []
  }
 ],
 "metadata": {
  "kernelspec": {
   "display_name": "general-purpose",
   "language": "python",
   "name": "general-purpose"
  },
  "language_info": {
   "codemirror_mode": {
    "name": "ipython",
    "version": 3
   },
   "file_extension": ".py",
   "mimetype": "text/x-python",
   "name": "python",
   "nbconvert_exporter": "python",
   "pygments_lexer": "ipython3",
   "version": "3.9.2"
  }
 },
 "nbformat": 4,
 "nbformat_minor": 5
}
